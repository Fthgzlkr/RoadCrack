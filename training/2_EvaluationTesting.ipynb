{
 "cells": [
  {
   "cell_type": "code",
   "execution_count": 4,
   "metadata": {},
   "outputs": [],
   "source": [
    "from ultralytics import YOLO"
   ]
  },
  {
   "cell_type": "code",
   "execution_count": 2,
   "metadata": {},
   "outputs": [],
   "source": [
    "# japanIndia_Filtered\n",
    "_data = \"C:/Users/fthgz/OneDrive/Belgeler/RoadDamageDetection-main/training/dataset.yaml\""
   ]
  },
  {
   "cell_type": "code",
   "execution_count": null,
   "metadata": {},
   "outputs": [
    {
     "name": "stdout",
     "output_type": "stream",
     "text": [
      "Ultralytics 8.3.153  Python-3.11.9 torch-2.5.1+cu121 CUDA:0 (NVIDIA GeForce RTX 3060 Laptop GPU, 6144MiB)\n",
      "YOLO11n summary (fused): 100 layers, 2,583,712 parameters, 0 gradients, 6.3 GFLOPs\n",
      "\u001b[34m\u001b[1mval: \u001b[0mFast image access  (ping: 0.10.0 ms, read: 173.445.3 MB/s, size: 74.7 KB)\n"
     ]
    },
    {
     "name": "stderr",
     "output_type": "stream",
     "text": [
      "\u001b[34m\u001b[1mval: \u001b[0mScanning C:\\Users\\fthgz\\OneDrive\\Belgeler\\RoadDamageDetection-main\\RDD2022_SPLIT\\labels\\val.cache... 5607 images, 284 backgrounds, 0 corrupt: 100%|██████████| 5607/5607 [00:00<?, ?it/s]\n",
      "                 Class     Images  Instances      Box(P          R      mAP50  mAP50-95): 100%|██████████| 351/351 [02:51<00:00,  2.05it/s]\n"
     ]
    },
    {
     "name": "stdout",
     "output_type": "stream",
     "text": [
      "                   all       5607      12982      0.579      0.513      0.531      0.298\n",
      "    Longitudinal Crack       2755       5138       0.64      0.506      0.555       0.31\n",
      "      Transverse Crack       1496       2299      0.629      0.508      0.553      0.283\n",
      "       Alligator Crack       1616       2057        0.7        0.6      0.664      0.357\n",
      "               Pothole        762       1380      0.643      0.374      0.453      0.203\n",
      "        Crosswalk Blur        171        179      0.787      0.721      0.749      0.504\n",
      "            White Line        807        986      0.497      0.625      0.467      0.287\n",
      "          Utility Hole        525        717      0.737      0.769      0.805      0.439\n",
      "                Repair        166        226          0          0          0          0\n",
      "Speed: 0.5ms preprocess, 14.4ms inference, 0.0ms loss, 4.8ms postprocess per image\n",
      "Results saved to \u001b[1mruns\\detect\\val\u001b[0m\n"
     ]
    }
   ],
   "source": [
    "weight_path = \"C:/Users/fthgz/OneDrive/Belgeler/RoadDamageDetection-main/training/runs/train/RoadDamage_YOLO11n_RTX3060_NoRepair2/weights/epoch80.pt\"\n",
    "\n",
    "model = YOLO(weight_path)\n",
    "metrics = model.val(data=_data)"
   ]
  }
 ],
 "metadata": {
  "kernelspec": {
   "display_name": "Python 3",
   "language": "python",
   "name": "python3"
  },
  "language_info": {
   "codemirror_mode": {
    "name": "ipython",
    "version": 3
   },
   "file_extension": ".py",
   "mimetype": "text/x-python",
   "name": "python",
   "nbconvert_exporter": "python",
   "pygments_lexer": "ipython3",
   "version": "3.11.9"
  }
 },
 "nbformat": 4,
 "nbformat_minor": 2
}
